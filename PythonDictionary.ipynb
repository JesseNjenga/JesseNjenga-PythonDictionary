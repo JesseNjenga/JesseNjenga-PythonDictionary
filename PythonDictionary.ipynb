{
  "nbformat": 4,
  "nbformat_minor": 0,
  "metadata": {
    "colab": {
      "provenance": [],
      "authorship_tag": "ABX9TyN01zQiJSNBOWl/e/62VHci",
      "include_colab_link": true
    },
    "kernelspec": {
      "name": "python3",
      "display_name": "Python 3"
    },
    "language_info": {
      "name": "python"
    }
  },
  "cells": [
    {
      "cell_type": "markdown",
      "metadata": {
        "id": "view-in-github",
        "colab_type": "text"
      },
      "source": [
        "<a href=\"https://colab.research.google.com/github/JesseNjenga/JesseNjenga-PythonDictionary/blob/main/PythonDictionary.ipynb\" target=\"_parent\"><img src=\"https://colab.research.google.com/assets/colab-badge.svg\" alt=\"Open In Colab\"/></a>"
      ]
    },
    {
      "cell_type": "code",
      "execution_count": null,
      "metadata": {
        "id": "qFvufa1H2H4m"
      },
      "outputs": [],
      "source": [
        "#The below program stores students data in a dictionary, allows one to access the individual students specific marks, calculate the individual students sum and average.\n",
        "\n",
        "n = int(input(\"Enter the number of students: \"))\n",
        "m = int(input(\"Enter the number of subjects: \"))\n",
        "\n",
        "students = {} #dictionary to hold students name and marks\n",
        "\n",
        "for i in range(n):\n",
        "  print(f\"Enter Student  Details: \")\n",
        "  Name = input(\"Name: \")\n",
        "  Marks = [] #List to hold marks for the various students\n",
        "  for j in range(m):\n",
        "    Marks.append(float(input(f\"Marks for Subject {j+1}: \")))\n",
        "  students[Name]= Marks\n",
        "\n",
        "print(students)\n",
        "\n",
        "# Access marks for a particular student\n",
        "student_name = input(\"Enter the name of the student to get their marks: \")\n",
        "if student_name in students:\n",
        "    marks = students[student_name]\n",
        "    print(f\"Marks for {student_name}: {marks}\")\n",
        "else:\n",
        "    print(f\"{student_name} not found in the list of students\")\n",
        "\n",
        "# Sum the marks for a particular student\n",
        "student_name = input(\"Enter the name of the student you want total marks: \")\n",
        "if student_name in students:\n",
        "    marks_sum = sum(students[student_name])\n",
        "    print(f\"Total marks for {student_name}: {marks_sum}\")\n",
        "else:\n",
        "    print(f\"{student_name} not found in the list of students\")\n",
        "\n",
        "# Calculate average marks for a specific student\n",
        "student_name = input(\"Enter the name of the student you want average marks: \")\n",
        "if student_name in students:\n",
        "    marks = students[student_name]\n",
        "    avg_marks = sum(marks) / len(marks)\n",
        "    print(f\"Average marks for {student_name}: {avg_marks}\")\n",
        "else:\n",
        "    print(f\"{student_name} not found in the list of students\")    "
      ]
    },
    {
      "cell_type": "code",
      "source": [
        "#The code improves the above code to include options\n",
        "\n",
        "n = int(input(\"Enter the number of students: \"))\n",
        "m = int(input(\"Enter the number of subjects: \"))\n",
        "\n",
        "students = {} #dictionary to hold students name and marks\n",
        "\n",
        "for i in range(n):\n",
        "  print(f\"Enter Student  Details: \")\n",
        "  name = input(\"Name: \")\n",
        "  marks = [] #List to hold marks for the various students\n",
        "  for j in range(m):\n",
        "    marks.append(float(input(f\"Marks for Subject {j+1}: \")))\n",
        "  students[name]= marks\n",
        "\n",
        "print(students)\n",
        "\n",
        "# Allow the user to choose what information they want to access\n",
        "option = input(\"Enter 'marks', 'sum', or 'average': \")\n",
        "student_name = input(\"Enter the name of the student: \")\n",
        "\n",
        "if student_name in students:\n",
        "  marks = students[student_name]\n",
        "  if option == \"marks\":\n",
        "    print(f\"Marks for {student_name}: {marks}\")\n",
        "  elif option == \"sum\":\n",
        "    marks_sum = sum(marks)\n",
        "    print(f\"Total marks for {student_name}: {marks_sum}\")\n",
        "  elif option == \"average\":\n",
        "    avg_marks = sum(marks) / len(marks)\n",
        "    print(f\"Average marks for {student_name}: {avg_marks}\")\n",
        "  else:\n",
        "    print(\"Invalid option entered\")\n",
        "else:\n",
        "  print(f\"{student_name} not found in the list of students\")\n"
      ],
      "metadata": {
        "id": "3LrhZdRoAD4G"
      },
      "execution_count": null,
      "outputs": []
    },
    {
      "cell_type": "code",
      "source": [
        "#Includes the names of individual subjects\n",
        "\n",
        "n = int(input(\"Enter the number of students: \"))\n",
        "m = int(input(\"Enter the number of subjects: \"))\n",
        "\n",
        "students = {}\n",
        "\n",
        "for i in range(n):\n",
        "    print(f\"Enter Student Details {i+1}: \")\n",
        "    name = input(\"Name: \")\n",
        "    marks = {}\n",
        "    for j in range(m):\n",
        "        subject_name = input(f\"Subject {j+1} name: \")\n",
        "        subject_marks = float(input(f\"{subject_name} marks: \"))\n",
        "        marks[subject_name] = subject_marks\n",
        "    students[name] = marks\n",
        "\n",
        "print(students)\n",
        "\n",
        "# Calculate average marks for each student\n",
        "averages = {}\n",
        "for name, marks in students.items():\n",
        "    total_marks = 0\n",
        "    num_subjects = 0\n",
        "    for subject_marks in marks.values():\n",
        "        total_marks += subject_marks\n",
        "        num_subjects += 1\n",
        "    avg_marks = total_marks / num_subjects\n",
        "    averages[name] = avg_marks\n",
        "\n",
        "# Print the average marks for each student\n",
        "for name, avg_marks in averages.items():\n",
        "    print(f\"Average marks for {name}: {avg_marks}\")\n"
      ],
      "metadata": {
        "id": "aQvkIJTxBpKo"
      },
      "execution_count": null,
      "outputs": []
    },
    {
      "cell_type": "code",
      "source": [],
      "metadata": {
        "id": "hlIVJdqmDM1A"
      },
      "execution_count": null,
      "outputs": []
    }
  ]
}